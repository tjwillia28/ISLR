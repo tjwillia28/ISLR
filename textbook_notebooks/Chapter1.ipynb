{
  "cells": [
    {
      "cell_type": "markdown",
      "source": "#### Chapter 1: Introduction\n\nBook URL : www.StatLearning.com\n\n- Statistical learning refers to a set of tools that we use to understand data.  These tools can be categorized into *unsupervized* and *supervised* tools.\n    - **Unsupervised Statistical Learning**: there are *inputs* and no supervising *output* (no labeled outputs), but we can learn relationships and structure from such data\n    - **Supervised Statistical Learning**: generally the goal is to predict, or estimate, an *output* based on one or more *inputs* \n \n- Supervised Learning:   \n    - **Regression** tries to predict a *continuous or quantitative* output value\n    - **Classification** tries to predict which bucket an output value will fall into\n\n- Unsupervised Learning:\n    - **Clustering** tries to determine if there are groups, or clusters among data points given only the *inputs*\n    - **Dimensionality Reduction** tries to represent the data in \"n\" dimensions while retaining as possible and can help visualize clustered data.\n\n",
      "metadata": {
        "pycharm": {
          "metadata": false,
          "name": "#%% md\n",
          "is_executing": false
        }
      }
    },
    {
      "cell_type": "code",
      "execution_count": null,
      "outputs": [],
      "source": "",
      "metadata": {
        "pycharm": {
          "metadata": false,
          "name": "#%%\n",
          "is_executing": true
        }
      }
    },
    {
      "cell_type": "code",
      "execution_count": null,
      "outputs": [],
      "source": "",
      "metadata": {
        "pycharm": {
          "metadata": false,
          "name": "#%%\n",
          "is_executing": true
        }
      }
    },
    {
      "cell_type": "code",
      "execution_count": null,
      "outputs": [],
      "source": "",
      "metadata": {
        "pycharm": {
          "metadata": false,
          "name": "#%%\n",
          "is_executing": true
        }
      }
    },
    {
      "cell_type": "code",
      "execution_count": 0,
      "outputs": [],
      "source": "",
      "metadata": {
        "pycharm": {
          "metadata": false,
          "name": "#%%\n",
          "is_executing": false
        }
      }
    },
    {
      "cell_type": "code",
      "execution_count": null,
      "outputs": [],
      "source": "",
      "metadata": {
        "pycharm": {
          "metadata": false,
          "name": "#%%\n"
        }
      }
    }
  ],
  "metadata": {
    "language_info": {
      "codemirror_mode": {
        "name": "ipython",
        "version": 2
      },
      "file_extension": ".py",
      "mimetype": "text/x-python",
      "name": "python",
      "nbconvert_exporter": "python",
      "pygments_lexer": "ipython2",
      "version": "2.7.6"
    },
    "kernelspec": {
      "name": "python3",
      "language": "python",
      "display_name": "Python 3"
    },
    "stem_cell": {
      "cell_type": "raw",
      "source": "#%\n",
      "metadata": {
        "pycharm": {
          "metadata": false
        }
      }
    }
  },
  "nbformat": 4,
  "nbformat_minor": 0
}